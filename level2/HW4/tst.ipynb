{
 "cells": [
  {
   "cell_type": "code",
   "execution_count": 7,
   "metadata": {},
   "outputs": [
    {
     "name": "stdout",
     "output_type": "stream",
     "text": [
      "2 asd\n",
      "Test is: asd is 5\n",
      "665\n"
     ]
    }
   ],
   "source": [
    "class t:\n",
    "    aaa = 665\n",
    "    def __init__(self, x, y) -> None:\n",
    "        self.x = x\n",
    "        self.y = y\n",
    "\n",
    "    def __str__(self) -> str:\n",
    "        return f\"Yo pro x is {self.x!r} and y is {self.y}\"\n",
    "\n",
    "    def deco(func):\n",
    "        def w(self,x):\n",
    "            print(self.y, self.x)\n",
    "            print(\"Test is:\", func(self,x))\n",
    "            \n",
    "        return w    \n",
    "    \n",
    "    @deco\n",
    "    def test(self, x):\n",
    "        return f\"{self.x} is {x}\"\n",
    "    \n",
    "    @classmethod\n",
    "    def tt(x):\n",
    "        return x.aaa\n",
    "    \n",
    "s = t('asd',2)\n",
    "s.test(5)       \n",
    "\n",
    "print(s.tt()) "
   ]
  },
  {
   "cell_type": "code",
   "execution_count": 7,
   "metadata": {},
   "outputs": [
    {
     "ename": "TypeError",
     "evalue": "Strings must be encoded before hashing",
     "output_type": "error",
     "traceback": [
      "\u001b[0;31m---------------------------------------------------------------------------\u001b[0m",
      "\u001b[0;31mTypeError\u001b[0m                                 Traceback (most recent call last)",
      "Cell \u001b[0;32mIn[7], line 5\u001b[0m\n\u001b[1;32m      2\u001b[0m \u001b[38;5;28;01mdef\u001b[39;00m \u001b[38;5;21m_hash_password\u001b[39m(password):\n\u001b[1;32m      3\u001b[0m     \u001b[38;5;28;01mreturn\u001b[39;00m hashlib\u001b[38;5;241m.\u001b[39msha256(password)\u001b[38;5;241m.\u001b[39mhexdigest()\n\u001b[0;32m----> 5\u001b[0m \u001b[38;5;28mprint\u001b[39m(_hash_password(\u001b[38;5;124m\"\u001b[39m\u001b[38;5;124mpassword123\u001b[39m\u001b[38;5;124m\"\u001b[39m))\n",
      "Cell \u001b[0;32mIn[7], line 3\u001b[0m, in \u001b[0;36m_hash_password\u001b[0;34m(password)\u001b[0m\n\u001b[1;32m      2\u001b[0m \u001b[38;5;28;01mdef\u001b[39;00m \u001b[38;5;21m_hash_password\u001b[39m(password):\n\u001b[0;32m----> 3\u001b[0m     \u001b[38;5;28;01mreturn\u001b[39;00m hashlib\u001b[38;5;241m.\u001b[39msha256(password)\u001b[38;5;241m.\u001b[39mhexdigest()\n",
      "\u001b[0;31mTypeError\u001b[0m: Strings must be encoded before hashing"
     ]
    }
   ],
   "source": [
    "\n"
   ]
  },
  {
   "cell_type": "code",
   "execution_count": 12,
   "metadata": {},
   "outputs": [
    {
     "name": "stdout",
     "output_type": "stream",
     "text": [
      "2 asd\n",
      "Test is: asd is 5\n"
     ]
    }
   ],
   "source": [
    "class t:\n",
    "    def __init__(self, x, y) -> None:\n",
    "        self.x = x\n",
    "        self.y = y\n",
    "\n",
    "    def __str__(self) -> str:\n",
    "        return f\"Yo pro x is {self.x!r} and y is {self.y}\"\n",
    "\n",
    "    @staticmethod\n",
    "    def deco(func):\n",
    "        def w(*args):\n",
    "            print(args[0].y, args[0].x)\n",
    "            print(\"Test is:\", func(args[0], args[1]))\n",
    "        return w    \n",
    "    \n",
    "    @deco\n",
    "    def test(self, x):\n",
    "        return f\"{self.x} is {x}\"\n",
    "    \n",
    "s = t('asd', 2)\n",
    "s.test(5)\n"
   ]
  },
  {
   "cell_type": "code",
   "execution_count": 15,
   "metadata": {},
   "outputs": [
    {
     "name": "stdout",
     "output_type": "stream",
     "text": [
      "5\n"
     ]
    }
   ],
   "source": [
    "def f(a, b=3,c=6):\n",
    "    return a + b+c\n",
    "\n",
    "print(f(1,c=1))"
   ]
  }
 ],
 "metadata": {
  "kernelspec": {
   "display_name": "base",
   "language": "python",
   "name": "python3"
  },
  "language_info": {
   "codemirror_mode": {
    "name": "ipython",
    "version": 3
   },
   "file_extension": ".py",
   "mimetype": "text/x-python",
   "name": "python",
   "nbconvert_exporter": "python",
   "pygments_lexer": "ipython3",
   "version": "3.12.2"
  }
 },
 "nbformat": 4,
 "nbformat_minor": 2
}
