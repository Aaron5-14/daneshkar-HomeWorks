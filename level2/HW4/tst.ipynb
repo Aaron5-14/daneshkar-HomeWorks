{
 "cells": [
  {
   "cell_type": "code",
   "execution_count": 11,
   "metadata": {},
   "outputs": [
    {
     "name": "stdout",
     "output_type": "stream",
     "text": [
      "2 asd\n",
      "Test is: asd is 5\n"
     ]
    }
   ],
   "source": [
    "class t:\n",
    "    def __init__(self, x, y) -> None:\n",
    "        self.x = x\n",
    "        self.y = y\n",
    "\n",
    "    def __str__(self) -> str:\n",
    "        return f\"Yo pro x is {self.x!r} and y is {self.y}\"\n",
    "\n",
    "    def deco(func):\n",
    "        def w(self,x):\n",
    "            print(self.y, self.x)\n",
    "            print(\"Test is:\", func(self,x))\n",
    "            \n",
    "        return w    \n",
    "    \n",
    "    @deco\n",
    "    def test(self, x):\n",
    "        return f\"{self.x} is {x}\"\n",
    "    \n",
    "s = t('asd',2)\n",
    "s.test(5)        "
   ]
  },
  {
   "cell_type": "code",
   "execution_count": 12,
   "metadata": {},
   "outputs": [
    {
     "name": "stdout",
     "output_type": "stream",
     "text": [
      "2 asd\n",
      "Test is: asd is 5\n"
     ]
    }
   ],
   "source": [
    "class t:\n",
    "    def __init__(self, x, y) -> None:\n",
    "        self.x = x\n",
    "        self.y = y\n",
    "\n",
    "    def __str__(self) -> str:\n",
    "        return f\"Yo pro x is {self.x!r} and y is {self.y}\"\n",
    "\n",
    "    @staticmethod\n",
    "    def deco(func):\n",
    "        def w(*args):\n",
    "            print(args[0].y, args[0].x)\n",
    "            print(\"Test is:\", func(args[0], args[1]))\n",
    "        return w    \n",
    "    \n",
    "    @deco\n",
    "    def test(self, x):\n",
    "        return f\"{self.x} is {x}\"\n",
    "    \n",
    "s = t('asd', 2)\n",
    "s.test(5)\n"
   ]
  },
  {
   "cell_type": "code",
   "execution_count": 15,
   "metadata": {},
   "outputs": [
    {
     "name": "stdout",
     "output_type": "stream",
     "text": [
      "5\n"
     ]
    }
   ],
   "source": [
    "def f(a, b=3,c=6):\n",
    "    return a + b+c\n",
    "\n",
    "print(f(1,c=1))"
   ]
  }
 ],
 "metadata": {
  "kernelspec": {
   "display_name": "base",
   "language": "python",
   "name": "python3"
  },
  "language_info": {
   "codemirror_mode": {
    "name": "ipython",
    "version": 3
   },
   "file_extension": ".py",
   "mimetype": "text/x-python",
   "name": "python",
   "nbconvert_exporter": "python",
   "pygments_lexer": "ipython3",
   "version": "3.12.2"
  }
 },
 "nbformat": 4,
 "nbformat_minor": 2
}
